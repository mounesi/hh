{
  "nbformat": 4,
  "nbformat_minor": 0,
  "metadata": {
    "colab": {
      "name": "happyhotel.ipynb",
      "provenance": [],
      "authorship_tag": "ABX9TyPS1ssc2ZqcLoj1hysEaPXw",
      "include_colab_link": true
    },
    "kernelspec": {
      "name": "python3",
      "display_name": "Python 3"
    }
  },
  "cells": [
    {
      "cell_type": "markdown",
      "metadata": {
        "id": "view-in-github",
        "colab_type": "text"
      },
      "source": [
        "<a href=\"https://colab.research.google.com/github/mounesi/hh/blob/master/happyhotel.ipynb\" target=\"_parent\"><img src=\"https://colab.research.google.com/assets/colab-badge.svg\" alt=\"Open In Colab\"/></a>"
      ]
    },
    {
      "cell_type": "code",
      "metadata": {
        "id": "pY51FV6mUOf_",
        "colab_type": "code",
        "colab": {
          "resources": {
            "http://localhost:8080/nbextensions/google.colab/files.js": {
              "data": "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",
              "ok": true,
              "headers": [
                [
                  "content-type",
                  "application/javascript"
                ]
              ],
              "status": 200,
              "status_text": ""
            }
          },
          "base_uri": "https://localhost:8080/",
          "height": 106
        },
        "outputId": "8d12aee8-35fd-438a-84f3-bf6b23725938"
      },
      "source": [
        "from google.colab import files\n",
        "files.upload()"
      ],
      "execution_count": 1,
      "outputs": [
        {
          "output_type": "display_data",
          "data": {
            "text/html": [
              "\n",
              "     <input type=\"file\" id=\"files-84d5bb54-4d88-4b6c-bc56-3b467c92594c\" name=\"files[]\" multiple disabled\n",
              "        style=\"border:none\" />\n",
              "     <output id=\"result-84d5bb54-4d88-4b6c-bc56-3b467c92594c\">\n",
              "      Upload widget is only available when the cell has been executed in the\n",
              "      current browser session. Please rerun this cell to enable.\n",
              "      </output>\n",
              "      <script src=\"/nbextensions/google.colab/files.js\"></script> "
            ],
            "text/plain": [
              "<IPython.core.display.HTML object>"
            ]
          },
          "metadata": {
            "tags": []
          }
        },
        {
          "output_type": "stream",
          "text": [
            "Saving hotel_not_happy_reviews.csv to hotel_not_happy_reviews.csv\n",
            "Saving hotel_happy_reviews.csv to hotel_happy_reviews.csv\n"
          ],
          "name": "stdout"
        }
      ]
    },
    {
      "cell_type": "code",
      "metadata": {
        "id": "XgAPn7jrUQH2",
        "colab_type": "code",
        "colab": {
          "base_uri": "https://localhost:8080/",
          "height": 204
        },
        "outputId": "783a8b28-7ebf-4b08-91e7-555979e95cec"
      },
      "source": [
        "import pandas as pd\n",
        "df = pd.read_csv('hotel_happy_reviews.csv')\n",
        "df.head()"
      ],
      "execution_count": 2,
      "outputs": [
        {
          "output_type": "execute_result",
          "data": {
            "text/html": [
              "<div>\n",
              "<style scoped>\n",
              "    .dataframe tbody tr th:only-of-type {\n",
              "        vertical-align: middle;\n",
              "    }\n",
              "\n",
              "    .dataframe tbody tr th {\n",
              "        vertical-align: top;\n",
              "    }\n",
              "\n",
              "    .dataframe thead th {\n",
              "        text-align: right;\n",
              "    }\n",
              "</style>\n",
              "<table border=\"1\" class=\"dataframe\">\n",
              "  <thead>\n",
              "    <tr style=\"text-align: right;\">\n",
              "      <th></th>\n",
              "      <th>User_ID</th>\n",
              "      <th>Description</th>\n",
              "      <th>Is_Response</th>\n",
              "      <th>hotel_ID</th>\n",
              "    </tr>\n",
              "  </thead>\n",
              "  <tbody>\n",
              "    <tr>\n",
              "      <th>0</th>\n",
              "      <td>id10329</td>\n",
              "      <td>Stayed here with husband and sons on the way t...</td>\n",
              "      <td>happy</td>\n",
              "      <td>8</td>\n",
              "    </tr>\n",
              "    <tr>\n",
              "      <th>1</th>\n",
              "      <td>id10331</td>\n",
              "      <td>We had - rooms. One was very nice and clearly ...</td>\n",
              "      <td>happy</td>\n",
              "      <td>3</td>\n",
              "    </tr>\n",
              "    <tr>\n",
              "      <th>2</th>\n",
              "      <td>id10333</td>\n",
              "      <td>My wife &amp; I stayed in this glorious city a whi...</td>\n",
              "      <td>happy</td>\n",
              "      <td>3</td>\n",
              "    </tr>\n",
              "    <tr>\n",
              "      <th>3</th>\n",
              "      <td>id10334</td>\n",
              "      <td>My boyfriend and I stayed at the Fairmont on a...</td>\n",
              "      <td>happy</td>\n",
              "      <td>7</td>\n",
              "    </tr>\n",
              "    <tr>\n",
              "      <th>4</th>\n",
              "      <td>id10336</td>\n",
              "      <td>Steps off Times Square, nice rooms, stayed - n...</td>\n",
              "      <td>happy</td>\n",
              "      <td>3</td>\n",
              "    </tr>\n",
              "  </tbody>\n",
              "</table>\n",
              "</div>"
            ],
            "text/plain": [
              "   User_ID  ... hotel_ID\n",
              "0  id10329  ...        8\n",
              "1  id10331  ...        3\n",
              "2  id10333  ...        3\n",
              "3  id10334  ...        7\n",
              "4  id10336  ...        3\n",
              "\n",
              "[5 rows x 4 columns]"
            ]
          },
          "metadata": {
            "tags": []
          },
          "execution_count": 2
        }
      ]
    },
    {
      "cell_type": "code",
      "metadata": {
        "id": "PxddsaYhU1J6",
        "colab_type": "code",
        "colab": {
          "base_uri": "https://localhost:8080/",
          "height": 204
        },
        "outputId": "a30fb0a5-738c-4f19-b68e-8ff64df22781"
      },
      "source": [
        "df_not = df = pd.read_csv('hotel_not_happy_reviews.csv')\n",
        "df_not.head()"
      ],
      "execution_count": 3,
      "outputs": [
        {
          "output_type": "execute_result",
          "data": {
            "text/html": [
              "<div>\n",
              "<style scoped>\n",
              "    .dataframe tbody tr th:only-of-type {\n",
              "        vertical-align: middle;\n",
              "    }\n",
              "\n",
              "    .dataframe tbody tr th {\n",
              "        vertical-align: top;\n",
              "    }\n",
              "\n",
              "    .dataframe thead th {\n",
              "        text-align: right;\n",
              "    }\n",
              "</style>\n",
              "<table border=\"1\" class=\"dataframe\">\n",
              "  <thead>\n",
              "    <tr style=\"text-align: right;\">\n",
              "      <th></th>\n",
              "      <th>User_ID</th>\n",
              "      <th>Description</th>\n",
              "      <th>Is_Response</th>\n",
              "      <th>hotel_ID</th>\n",
              "    </tr>\n",
              "  </thead>\n",
              "  <tbody>\n",
              "    <tr>\n",
              "      <th>0</th>\n",
              "      <td>id10326</td>\n",
              "      <td>The room was kind of clean but had a VERY stro...</td>\n",
              "      <td>not happy</td>\n",
              "      <td>3</td>\n",
              "    </tr>\n",
              "    <tr>\n",
              "      <th>1</th>\n",
              "      <td>id10327</td>\n",
              "      <td>I stayed at the Crown Plaza April -- - April -...</td>\n",
              "      <td>not happy</td>\n",
              "      <td>9</td>\n",
              "    </tr>\n",
              "    <tr>\n",
              "      <th>2</th>\n",
              "      <td>id10328</td>\n",
              "      <td>I booked this hotel through Hotwire at the low...</td>\n",
              "      <td>not happy</td>\n",
              "      <td>3</td>\n",
              "    </tr>\n",
              "    <tr>\n",
              "      <th>3</th>\n",
              "      <td>id10330</td>\n",
              "      <td>My girlfriends and I stayed here to celebrate ...</td>\n",
              "      <td>not happy</td>\n",
              "      <td>3</td>\n",
              "    </tr>\n",
              "    <tr>\n",
              "      <th>4</th>\n",
              "      <td>id10332</td>\n",
              "      <td>My husband and I have stayed in this hotel a f...</td>\n",
              "      <td>not happy</td>\n",
              "      <td>7</td>\n",
              "    </tr>\n",
              "  </tbody>\n",
              "</table>\n",
              "</div>"
            ],
            "text/plain": [
              "   User_ID  ... hotel_ID\n",
              "0  id10326  ...        3\n",
              "1  id10327  ...        9\n",
              "2  id10328  ...        3\n",
              "3  id10330  ...        3\n",
              "4  id10332  ...        7\n",
              "\n",
              "[5 rows x 4 columns]"
            ]
          },
          "metadata": {
            "tags": []
          },
          "execution_count": 3
        }
      ]
    },
    {
      "cell_type": "code",
      "metadata": {
        "id": "DC9AQEKW5zmZ",
        "colab_type": "code",
        "colab": {
          "base_uri": "https://localhost:8080/",
          "height": 323
        },
        "outputId": "2bad7e6e-d06c-4cdb-8111-886b77a8d761"
      },
      "source": [
        "# Data Information\n",
        "df.info()\n",
        "print(\"-----------\")\n",
        "print(df.nunique())\n",
        "print(\"-----------\")"
      ],
      "execution_count": 4,
      "outputs": [
        {
          "output_type": "stream",
          "text": [
            "<class 'pandas.core.frame.DataFrame'>\n",
            "RangeIndex: 12411 entries, 0 to 12410\n",
            "Data columns (total 4 columns):\n",
            " #   Column       Non-Null Count  Dtype \n",
            "---  ------       --------------  ----- \n",
            " 0   User_ID      12411 non-null  object\n",
            " 1   Description  12411 non-null  object\n",
            " 2   Is_Response  12411 non-null  object\n",
            " 3   hotel_ID     12411 non-null  int64 \n",
            "dtypes: int64(1), object(3)\n",
            "memory usage: 388.0+ KB\n",
            "-----------\n",
            "User_ID        12411\n",
            "Description    12411\n",
            "Is_Response        1\n",
            "hotel_ID          10\n",
            "dtype: int64\n",
            "-----------\n"
          ],
          "name": "stdout"
        }
      ]
    },
    {
      "cell_type": "code",
      "metadata": {
        "id": "iGvLt4yM7snU",
        "colab_type": "code",
        "colab": {
          "base_uri": "https://localhost:8080/",
          "height": 204
        },
        "outputId": "b9029fd5-86f2-4e46-cac8-b86cbedad39b"
      },
      "source": [
        "df_freq = df['hotel_ID'].value_counts(ascending=True)\n",
        "df_freq"
      ],
      "execution_count": 5,
      "outputs": [
        {
          "output_type": "execute_result",
          "data": {
            "text/plain": [
              "6      334\n",
              "9      483\n",
              "10     734\n",
              "8      850\n",
              "2     1012\n",
              "5     1142\n",
              "3     1612\n",
              "1     1750\n",
              "4     2196\n",
              "7     2298\n",
              "Name: hotel_ID, dtype: int64"
            ]
          },
          "metadata": {
            "tags": []
          },
          "execution_count": 5
        }
      ]
    },
    {
      "cell_type": "code",
      "metadata": {
        "id": "pbEy7eU7AT7v",
        "colab_type": "code",
        "colab": {
          "base_uri": "https://localhost:8080/",
          "height": 306
        },
        "outputId": "e551afee-2fd4-464e-bcb4-62bf0272847f"
      },
      "source": [
        "df_freq.plot(kind = 'barh', edgecolor='blue', color=(0.7, 1, 0.6, 0.6), title =  'Happy review counts vs Hotel IDs', fontsize = 18)"
      ],
      "execution_count": 6,
      "outputs": [
        {
          "output_type": "execute_result",
          "data": {
            "text/plain": [
              "<matplotlib.axes._subplots.AxesSubplot at 0x7f9cdb5755c0>"
            ]
          },
          "metadata": {
            "tags": []
          },
          "execution_count": 6
        },
        {
          "output_type": "display_data",
          "data": {
            "image/png": "[encoded data removed]",
            "text/plain": [
              "<Figure size 432x288 with 1 Axes>"
            ]
          },
          "metadata": {
            "tags": [],
            "needs_background": "light"
          }
        }
      ]
    },
    {
      "cell_type": "code",
      "metadata": {
        "id": "2V2htM98_q17",
        "colab_type": "code",
        "colab": {
          "base_uri": "https://localhost:8080/",
          "height": 204
        },
        "outputId": "768d5817-e351-4c9f-de9a-2c98e149452a"
      },
      "source": [
        "df_not_freq = df_not['hotel_ID'].value_counts(ascending=True)\n",
        "df_not_freq"
      ],
      "execution_count": 7,
      "outputs": [
        {
          "output_type": "execute_result",
          "data": {
            "text/plain": [
              "6      334\n",
              "9      483\n",
              "10     734\n",
              "8      850\n",
              "2     1012\n",
              "5     1142\n",
              "3     1612\n",
              "1     1750\n",
              "4     2196\n",
              "7     2298\n",
              "Name: hotel_ID, dtype: int64"
            ]
          },
          "metadata": {
            "tags": []
          },
          "execution_count": 7
        }
      ]
    },
    {
      "cell_type": "code",
      "metadata": {
        "id": "iVhQubbJ_xS7",
        "colab_type": "code",
        "colab": {
          "base_uri": "https://localhost:8080/",
          "height": 306
        },
        "outputId": "454cfa35-8023-40b7-f20f-2cae90bed19b"
      },
      "source": [
        "df_not_freq.plot(kind = 'barh', edgecolor='red', color=(0.7, .3, 0.6, 0.6), title =  'Not happy review counts vs Hotel IDs', fontsize = 18)"
      ],
      "execution_count": 8,
      "outputs": [
        {
          "output_type": "execute_result",
          "data": {
            "text/plain": [
              "<matplotlib.axes._subplots.AxesSubplot at 0x7f9cdb4d7128>"
            ]
          },
          "metadata": {
            "tags": []
          },
          "execution_count": 8
        },
        {
          "output_type": "display_data",
          "data": {
            "image/png": "[encoded data removed]",
            "text/plain": [
              "<Figure size 432x288 with 1 Axes>"
            ]
          },
          "metadata": {
            "tags": [],
            "needs_background": "light"
          }
        }
      ]
    },
    {
      "cell_type": "code",
      "metadata": {
        "id": "nsWERsEh7srl",
        "colab_type": "code",
        "colab": {}
      },
      "source": [
        ""
      ],
      "execution_count": 8,
      "outputs": []
    },
    {
      "cell_type": "code",
      "metadata": {
        "id": "s_3qDRu97stx",
        "colab_type": "code",
        "colab": {}
      },
      "source": [
        ""
      ],
      "execution_count": 8,
      "outputs": []
    },
    {
      "cell_type": "code",
      "metadata": {
        "id": "o13h0geKU42X",
        "colab_type": "code",
        "colab": {}
      },
      "source": [
        "#@title Set topic modeling algorithm arguments for Happy Hotel\n",
        "\n",
        "no_topics =  5#@param {type:\"integer\"}\n",
        "\n",
        "no_top_words =  5#@param {type:\"integer\"}\n",
        "\n",
        "no_top_documents = 3 #@param {type:\"integer\"}\n",
        "\n",
        "from sklearn.feature_extraction.text import TfidfVectorizer, CountVectorizer\n",
        "from sklearn.decomposition import NMF, LatentDirichletAllocation\n",
        "import numpy as np"
      ],
      "execution_count": 9,
      "outputs": []
    },
    {
      "cell_type": "code",
      "metadata": {
        "id": "IvwwyK8u23iH",
        "colab_type": "code",
        "colab": {}
      },
      "source": [
        "dataset_df = df"
      ],
      "execution_count": 10,
      "outputs": []
    },
    {
      "cell_type": "code",
      "metadata": {
        "id": "GICrJVT63T2c",
        "colab_type": "code",
        "colab": {
          "base_uri": "https://localhost:8080/",
          "height": 119
        },
        "outputId": "d8524bd8-5c8f-4013-b15c-a8bae90e4f40"
      },
      "source": [
        "documents = df['Description']\n",
        "documents.head()"
      ],
      "execution_count": 11,
      "outputs": [
        {
          "output_type": "execute_result",
          "data": {
            "text/plain": [
              "0    The room was kind of clean but had a VERY stro...\n",
              "1    I stayed at the Crown Plaza April -- - April -...\n",
              "2    I booked this hotel through Hotwire at the low...\n",
              "3    My girlfriends and I stayed here to celebrate ...\n",
              "4    My husband and I have stayed in this hotel a f...\n",
              "Name: Description, dtype: object"
            ]
          },
          "metadata": {
            "tags": []
          },
          "execution_count": 11
        }
      ]
    },
    {
      "cell_type": "code",
      "metadata": {
        "id": "tXM67pys2lzY",
        "colab_type": "code",
        "colab": {
          "base_uri": "https://localhost:8080/",
          "height": 1000
        },
        "outputId": "e5bad207-1a41-44fa-98c3-c588b20e90d8"
      },
      "source": [
        "\n",
        "\"#@title Run NMF\"\n",
        "\n",
        "def display_topics(H, W, feature_names, documents, no_top_words, no_top_documents):\n",
        "    for topic_idx, topic in enumerate(H):\n",
        "        print(\"Topic %d:\" % (topic_idx))\n",
        "        print(\" \".join([feature_names[i]\n",
        "                        for i in topic.argsort()[:-no_top_words - 1:-1]]))\n",
        "        top_doc_indices = np.argsort( W[:,topic_idx] )[::-1][0:no_top_documents]\n",
        "        for doc_index in top_doc_indices:\n",
        "            print(documents[doc_index])\n",
        "\n",
        "# NMF is able to use tf-idf\n",
        "tfidf_vectorizer = TfidfVectorizer(max_df=0.95, min_df=2, stop_words='english')\n",
        "tfidf = tfidf_vectorizer.fit_transform(documents)\n",
        "tfidf_feature_names = tfidf_vectorizer.get_feature_names()\n",
        "\n",
        "# Run NMF\n",
        "nmf_model = NMF(n_components=no_topics, random_state=1, alpha=.1, l1_ratio=.5, init='nndsvd').fit(tfidf)\n",
        "nmf_W = nmf_model.transform(tfidf)\n",
        "nmf_H = nmf_model.components_\n",
        "\n",
        "print(\"NMF Topics\")\n",
        "display_topics(nmf_H, nmf_W, tfidf_feature_names, documents, no_top_words, no_top_documents)\n",
        "print(\"--------------\")"
      ],
      "execution_count": 12,
      "outputs": [
        {
          "output_type": "stream",
          "text": [
            "NMF Topics\n",
            "Topic 0:\n",
            "hotel location rooms great staff\n",
            "this was a nice hotel. the staff was great and nice. Only stayed for one night so really didn't get to do too much in the hotel itself. but i would come back.\n",
            "Just returned from a - night stay at the Park Central. We were a little concerned after reading the reviews about the hotel but can honestly say that this hotel was fine. It is in a great location, within walking distance to Central Park and Times Square, and the bus stops right outside the hotel. The decor was a bit dull but bedding and bathroom was very clean. The staff also seemed very friendly and helpful. The cost of this hotel was very reasonable, and for the price we couldn't have really asked for more. Would definately recommend this hotel for its location and would not worry about saying there again.\n",
            "This was our first trip to NYC. The hotel is a beautiful structure inside and out. When you walk in, it is like taking a time machine.\r\n",
            "Looks are one thing, but comfort is another...\r\n",
            "The rooms are VERY small. I know that real estate in this area comes at a high price, but these rooms were incredibly small. The beds are hard - this is ok for me, but my wife had a difficult time sleeping.\r\n",
            "Another issue that we ran into was that the hot water was not working one night during our stay. The issue impacted the entire hotel, so they were unable to do anything about it. This is not something that I would expect when I am paying close to $--- a night.\r\n",
            "The best thing about this hotel is the location. Everything you could possibly need is within walking distance. It is a prime location for this very busy area of New York. The Tick Tock Diner is also attached to this hotel - great place to eat any time of the day.\r\n",
            "Overall, I was somewhat upset with our decision to stay here. I just don't feel like I got my money's worth. Don't get me wrong - it is a very historic hotel and they have done a decent job updating everything. We had a great view of the Hudson and the location was wonderful, but I just felt like it should have been 'nicer' for the price. Unless there is a serious discount, I do not think we will be staying there again.\n",
            "Topic 1:\n",
            "told hotel desk room check\n",
            "My husband and two of our friends chose this hotel based on its prime location and positive reviews on trip advisor. However, the only good thing about this hotel was its location. We arrived on a Saturday morning shortly before noon. Unfortunately, we weren't able to check-in early, which was ok, so we went to have some lunch. We came back after a few hours, so only about - hours before their normal check-in time, and asked what the status of our room was. While the gentleman at the front desk was checking, the other woman at the front desk overheard our last name, typed it in the computer and says \"\"\"\"\"\"\"\"\"\"\"\"\"\"\"\"\"\"\"\"\"\"\"\"\"\"\"\"\"\"\"\"Nope! Not ready.\"\"\"\"\"\"\"\"\"\"\"\"\"\"\"\"\"\"\"\"\"\"\"\"\"\"\"\"\"\"\"\" Didn't even give the man we were working with a chance to complete his research and see if there was something he could do for us. So, we went walking around and called to check in, about -- minutes prior to check in time. The woman who rudely interrupted us before, answered the phone. I told her we were calling to check on the status of our room, and she said \"\"\"\"\"\"\"\"\"\"\"\"\"\"\"\"\"\"\"\"\"\"\"\"\"\"\"\"\"\"\"\"is your last name [spells out last name]?\"\"\"\"\"\"\"\"\"\"\"\"\"\"\"\"\"\"\"\"\"\"\"\"\"\"\"\"\"\"\"\" I said it was, and without even checking, she responds with \"\"\"\"\"\"\"\"\"\"\"\"\"\"\"\"\"\"\"\"\"\"\"\"\"\"\"\"\"\"\"\"it's not ready.\"\"\"\"\"\"\"\"\"\"\"\"\"\"\"\"\"\"\"\"\"\"\"\"\"\"\"\"\"\"\"\" I asked her if she checked the computer, to which she replied \"\"\"\"\"\"\"\"\"\"\"\"\"\"\"\"\"\"\"\"\"\"\"\"\"\"\"\"\"\"\"\"no\"\"\"\"\"\"\"\"\"\"\"\"\"\"\"\"\"\"\"\"\"\"\"\"\"\"\"\"\"\"\"\" and hung up. Wow, so nice of you. I then called back to speak with the manager and informed her of the rude front desk staff, and she said she would put a rush on our room and call us when it was ready. Did we ever receive a call? Nope. Finally, we came back right at check-in time and the room was ready. The doormen, like another reviewer mentioned, don't help at all (never once opened a door for us or offered to help with luggage during our stay), and we were never able to use the elevator since it took forever to arrive each time we tried. Then, comes the WORST part of our stay. Late Sunday afternoon, we receive a paper that was slipped under our door informing us that the City of NY was going to be shutting off our water the next day from -:----:--. Not even one day notice! So, we go to speak with the manager at the front desk and ask him to work with us. I explained this was the last day of our vacation, and now - of us would each have to wake up earlier than desired to make sure we could take a shower. I asked if he would appreciate having to wake up early on his vacation...his response \"\"\"\"\"\"\"\"\"\"\"\"\"\"\"\"\"\"\"\"\"\"\"\"\"\"\"\"\"\"\"\"I have kids, so I'm always up early.\"\"\"\"\"\"\"\"\"\"\"\"\"\"\"\"\"\"\"\"\"\"\"\"\"\"\"\"\"\"\"\" Not what you want to hear from management...whatever happened to customer service. I asked if they had advance notice of the water being shut off. He said they did, but didn't know the timeframe. Well, had they informed us that the water would be turned off, for any period of time, during our stay, we wouldn't have chosen that hotel...how convenient that they didn't inform their guests until a few hours before the water was to be shut off???!! So, I asked him what we were supposed to do if we needed to use the restroom while the water was turned off. He said \"\"\"\"\"\"\"\"\"\"\"\"\"\"\"\"\"\"\"\"\"\"\"\"\"\"\"\"\"\"\"\"fill your tub up with water and use the water from there.\"\"\"\"\"\"\"\"\"\"\"\"\"\"\"\"\"\"\"\"\"\"\"\"\"\"\"\"\"\"\"\" WOW...I just paid $---+ to stay at this hotel, and now I have to fill my tub up with water in order to be able to go to the bathroom? The customer service here just absolutely blew my mind. I have always loved NY and enjoyed taking trips here, but the service we received at this hotel, was just horrible. I would never come back or recommend that anybody stay here.\n",
            "The hotel is in a great location, and somewhat what you would expect from a hilton in terms of what it has to offer - however i had a horrible experience staying here this past weekend. \r\n",
            "I am a few weeks away from giving birth and things got off to the wrong foot when i called to request a King room before checking in, was told that was fine, upon checking in I was told that a king would not be available since most of the hotel rooms are doubles. I went up to the room - and then the keys did not work (had to then go all the way back down to get the keys activated). The room was ok - but not as clean as I would expect from a Hilton or another hotel in this range - hair around the tub , in the corners and dust all over the bathroom.\r\n",
            "On my first morning there i had the security lock on the door - thankfully because the housekeeper did not bother to knock prior to just opening the door! when she slammed the door into the security lock she just closed it again ... no apology, nothing.\r\n",
            "I never did get my room cleaned that day. The next day I called housekeeping as I was leaving to ask for housekeeping, although they replaced the towels, the sheets were not changed, and the bathroom was not cleaned.\r\n",
            "I had to extend my stay by - night, knowing that the hotel may not figure this out I asked at the front desk if I could just keep my existing room - to avoid moving for the additional night. I was told that was fine - no mention of having to do anything else! When I called to confirm this again in the morning I was told I would have to go downstairs and have my keys replaced (why they didnt do this the day before or tell me this previously i dont know! - when i went down I was asked \"\"\"\"\"\"\"\"\"\"\"\"\"\"\"\"\"\"\"\"\"\"\"\"\"\"\"\"\"\"\"\"Do you want a king room ! because you were booked for one!\"\"\"\"\"\"\"\"\"\"\"\"\"\"\"\"\"\"\"\"\"\"\"\"\"\"\"\"\"\"\"\" \r\n",
            "On the day i was going to check out (which is at --am) I called at -am to ask for a late checkout. The front desk person (i was i had taken their name) said no problem to check out at -pm. Around --am I was constantly interrupted by housekeeping - when i explained i had a late check out, they said \"\"\"\"\"\"\"\"\"\"\"\"\"\"\"\"\"\"\"\"\"\"\"\"\"\"\"\"\"\"\"\"i dont know\"\"\"\"\"\"\"\"\"\"\"\"\"\"\"\"\"\"\"\"\"\"\"\"\"\"\"\"\"\"\"\"... after this happened a few times, my husband called front desk and they said that there was no record of a late check out - although we used the hotel phone to call at -am, and that since check out was at --am we would be charged a half day stay - I feel that the hotel staff let this place down, they are not helpful and their communication systems need to be overhauled, ie if you speak to a guest on the phone and say its ok to get a king room, or late check out , then at the very least write it in the log! \r\n",
            "What was the worst is that instead of considering that a Hilton employee could have give us a late check out and forgotten to put it into the computer system - the front desk staff just assumed we were lying . \r\n",
            "There are many great hotels , within the same location and price range in the area - I will not be staying at this hotel (and will probably avoid hiltons in general after this stay - i have never been treated this poorly as a guest at other chains (Starwood or Kimpton for me!)\n",
            "I booked two rooms at this hotel for my friend's --th birthday. It was supposed to be a nice getaway for four girlfriends to celebrate a special birthday. We checked in to our rooms around -:-- p.m. with plans to get ready for a special evening out. We had dinner reservations at - p.m. When we arrived in our rooms we found that the hotel had given us the wrong rooms. We had reserved two rooms with two queen beds in each. Instead our rooms each had one king. We called the front desk to let them know of the mistake and they said there were no other rooms available and there was nothing else they could do. We insisted that they find an alternative for us. The man at the front desk told me he was the manager and asked me to give him - minutes and he said he would call back. He did not call back for -- min. I finally called him back. At that point he said again there was nothing he could do. Again - we insisted that he make some sort of adjustment for the mistake. He said he was busy and could I call back later??? To make a long story short - he eventually offered us two suites that still each only had king beds. We decided to take the option even though what we really wanted was the two beds in each room which we had reserved. We moved all of our luggage up to the --th floor with no offer of help from the front desk. Upon arriving in our new rooms, we discovered that one of the suites only had a full-sized bed not a king or even a queen. So now we were worse off than before. We called the front desk and explained the situation and asked to go back to our old rooms where at least if we had to share beds, they were king size beds...and not full-sized. We were told that those rooms were no longer available. At this point, we were already late for our dinner reservation and had not had time to shower and change as we had planned. We complained to the guy who originally said he was the manager.\"\"\"\"\"\"\"\"\"\"\"\"\"\"\"\"\"\"\"\"\"\"\"\"\"\"\"\"\"\"\"\" He had the real manager call us back and this guy was no better. Instead of being apologetic and polite, he was very curt and not apologetic in the least. He asked us to explain the situation once again and had to nerve to admonish us for speaking quickly on the phone as we were rushing to try to make our dinner reservation. When I explained that the situation was making us late for dinner, the manager said I don't see how this bedding issue has anything to do with your lack of preparedness time!!!! Again I explained that we had been moving between rooms and have been on the phone with his staff for the past hour. At this point, we were about to loose our dinner reservation. We were already quite late. The hotel was quickly ruining a --th birthday celebration for four moms who rarely have the opportunity to get away for an evening. Ultimately, the manager came up with another room that had a king bed so we had to move rooms yet another time. When it was all said and done - we were in FIVE different rooms. The hotel never apologized. The manager was very snooty and rude. To make matters worse, they charged my credit card with an additional $--- to cover any expenses that might have been incurred???? I called to question this and the hotel said they standardly run a $--- charge on a guest's card to cover any additional costs and that they then refund the charge if not used. In my case, they charged $--- X - -- four times for a total of $---.\r\n",
            "This did not need to be a disastrous stay. All it would have taken would have been a little competency from the guy at the front desk who claimed to be the manager and some level of customer service from the real manager who had quite an attitude. \r\n",
            "That said, the bellhops, valets and other service people were super nice and courteous. They could not have been more pleasant. Unfortunately, management was a nightmare.\n",
            "Topic 2:\n",
            "room bed bathroom floor shower\n",
            "I had booked a room at the West Side for - days and when I arrived at the hostel, I had to pay in advance (-- USD per night). After the first night I left the place and looked for another room. They did not refund my money, but I did not care, because I just wanted to leave the place. They also offered me another room, but I did not take it.\r\n",
            "My room was just a few inches bigger the the queen size bed and there was no closet in the room. Not even a hook or any clothes hangers. Whenever I needed something, I had to put the suitecase on the bed, take my stuff out, close it and put it back beside the bed. There was nothing in the room exept a bed, a small table next to the bed and an ancient tv without remote.\r\n",
            "The room was dirty and smelly and was not renovated or painted in ages. The linen were not clean and I used one of my t-shirts to cover the pillow for the night. It was very cold, but sometime during the night, the heater started to work and it got very hot. I could not adjust the heat level, so I had to open the window. So my head was freezing and my feet were red-hot. The radiator made cracking and fizzing noise the hole night and I feared it might explode. I did not catch any sleep and had one of the worst nights of my life.\r\n",
            "When I went to the shared bathroom in the morning, I lost the urge to shower. The bathroom was dirty and cold and there was just a basin, a shower and a toilet. Nothing to put your stuff like a rack or a shelf. No even a hook to hang the towel. When I went back to my room to get a plastic bag to lay my towel onto, somebody else went into the bathroom and both bathrooms on my floor were taken for at least -- minutes. This was the moment when I decided to get a new hotel.\r\n",
            "The West Side Inn is very cheap and I expected no luxury or even comfort at all. But I expected at least a clean room and a bathroom that deserves the name. What I got was a dirty room, no sleep at all and a filthy bathroom.\r\n",
            "A friend of mine stayed at the \"\"\"\"\"\"\"\"\"\"\"\"\"\"\"\"\"\"\"\"\"\"\"\"\"\"\"\"\"\"\"\"Jazz on the Park\"\"\"\"\"\"\"\"\"\"\"\"\"\"\"\"\"\"\"\"\"\"\"\"\"\"\"\"\"\"\"\" Hostel at the same time and I could look at his room. It had no comfort either, but it was clean and quite.\n",
            "We stayed here last weekend for one night. We had stayed at this hotel one other time, last year & the property has gone downhill since then. We booked the Texas Resident rate of $--.-- plus tax. \r\n",
            "The gal at the front desk was nice. I asked for a high floor not facing the freeway (as this type room can be noisy). She said she could put us on the -nd floor. I told her again, I'd like a high floor. She said there was a room on the -th floor, but it would be hot up on that floor. I asked her to check again to see if there wasn't something else.... she found a room on the -th floor, but it was facing the freeway. So, I took the -nd floor room. Room ---. We arrived at the very end of the hall (which was fine - more quiet there). \r\n",
            "The door handle was loose & we had to mess with it to get it to open. Once inside the room looked fine. There was an odor. Not a terrible odor, but a \"\"\"\"\"\"\"\"\"\"\"\"\"\"\"\"\"\"\"\"\"\"\"\"\"\"\"\"\"\"\"\"not so clean\"\"\"\"\"\"\"\"\"\"\"\"\"\"\"\"\"\"\"\"\"\"\"\"\"\"\"\"\"\"\"\" odor. The bed was made as usual, however, there were several marks of things having been placed on the comforter. I had a feeling as if someone else had been in there & decided not to stay in that room. ??? So... I immediately pulled back the covers all the way to the foot of the bed & searched for bed bugs or anything else. Everything was clean. So, I was ok with the room. The A-C temp was set at -- degrees, so I turned it down to --...(we like our room COLD) and checked out the rest of the room.... the bathroom was spacious & clean...no mold. Towels were in short supply, but we made it without running out. I looked up at the A-C filter & it was filthy. I told the hubs, that is probably why the room smelled.\r\n",
            "We went downstairs to the hotel bar & ordered drinks & light snacks. The french fries were really good, but my Bloody Mary was terrible. I didn't even drink half of it. \r\n",
            "We stopped by the pool, nice & clean, but full of people, mostly kids. So, we passed on swimming. \r\n",
            "We went back up to our room to wait for our friends to join us for dinner, the room was no cooler than when we had arrived an hour or so earlier. Our friends came & we left for the evening. \r\n",
            "When we arrived back at our room around -:-- AM... we couldn't find a parking palce, so we went around back & had to park FAR from the door, in a space that was not a parking space. There's a fence all around the parking lot & signs EVERYWHERE stating the hotel is NOT responsible for break-ins. \r\n",
            "Also, there are two entrances to the lots & the side one was blocked by a van with out of state tags. Totally parked sideways in the driveway. ????? We had to turn around & get back on the access road & went in the main driveway.... anyway, back to the rear parking lot issue.... we parked, got out, walked up to the back door (which SHOULD HAVE BEEN LOCKED).... it opened right up.... so anyone could have just come in the door without a keycard. Not safe folks! \r\n",
            "We go up to our room, expecting it to be nice & cool (it was a typical Houston summer night - hot & humid ).... well, the room was still the same temp as when we arrived. So, we pulled off all the covers, except the sheet & crawled into bed. The bed was ok... but the sheets & pillows stank. That same old dirty smell as in the room. But, I know they were clean.... at least they LOOKED clean. Anyway, we had to kick off the sheet to feel comfortable in the room. The fan NEVER turned off (it was on auto), so the A-C was working as hard as it could to cool the room.... which it never did. I HATE to sweat when I sleep... don't you? \r\n",
            "Anyway, we never complained, but vowed we will never stay here again. There are too many other options in the area (which we come to a few times a year). \r\n",
            "They offered the best rate, for sure...but to us, it wasn't worth it. We'll pay more next time & get a clean smelling room with an A-C that works.\n",
            "Having stayed here once before and absolutely loved the hotel because of the location and also because everyone was so niceI thought that I would stay here again. However, This last time that I stayed there which was March -----, ---- I couldn't of had the opposite experience in the way of the room. Everyone was still nice and welcoming and the lobby was super clean however it was the bedrooms and bathrooms that I had the most complaints. I switched rooms two times before I finally got into a room that was sufficient. The first room was right above construction that is going on and decided to move because of the noise. The second room was so small with the king sized bed that I couldn't even fit my suitcase in there without having to step over it. The third room was supposed to be a \"\"\"\"\"\"\"\"\"\"\"\"\"\"\"\"\"\"\"\"\"\"\"\"\"\"\"\"\"\"\"\"superior room\"\"\"\"\"\"\"\"\"\"\"\"\"\"\"\"\"\"\"\"\"\"\"\"\"\"\"\"\"\"\"\" like the one I got last time. However, the room wasn't much bigger than the other two that I was moved from. After all that was said and done I decided to have a look at the bathroom. As you can see in the pictures that go along with this review the shower was probably the DIRTIEST hotel shower I have ever had. The grout was a yellow color and the shower floor was a dingy dark color as if it had never been scrubbed before. Also, the -th floor; which this room was located had the WORST smell once you stepped off the elevator and got to the room. It smelt like constantly like Curry which isn't the most pleasant smell to smell after eating dinner or in the morning. Because of this, I will probably never stay here again. I would advise you to try and find somewhere else to stay.\n",
            "Topic 3:\n",
            "breakfast free good airport pool\n",
            "Free breakfast and shuttle to the airport. Small room for business class hotel.\n",
            "Very clean. Bed was good and comfortable. Free shuttle to airport. Great location for early flight at airport.\n",
            "We stayed here twice in November ---- and it is ok if you are looking for a cheap room and can't find anything else. The location isn't bad but it is not convenient to get to from I---. If you want the free continental breakfast, you have to get up early. We went there more than a half hour before the free breakfast ended and found nothing to eat. The staff member told me that it was all gone and that no more would be provided. So much for the advertised \"\"\"\"\"\"\"\"\"\"\"\"\"\"\"\"\"\"\"\"\"\"\"\"\"\"\"\"\"\"\"\"free continental breakfast\"\"\"\"\"\"\"\"\"\"\"\"\"\"\"\"\"\"\"\"\"\"\"\"\"\"\"\"\"\"\"\"! Apparently the hotel only provides so much each morning and it is only free if you get there before it is all gone. They should provide enough breakfast for all guests if they are going to advertise it.\n",
            "Topic 4:\n",
            "parking car valet park lot\n",
            "this hotel is too expensive and if you have a problem- dont call the manager because it wont do any good. parking is a nightmare. parking valet stole cash out of our car then charged us $---night to park our car.\n",
            "The Good:\r\n",
            "Just what you would expect from a Marriott. Clean and Fresh!\r\n",
            "The Bad:\r\n",
            "Only one restaurant. It serves breakfast, lunch and dinner, but no burgers. If you want a burger you have to go eat in the bar. Not ideal if you have kids with you or want to sit a normal dining table which is the standard table height.\r\n",
            "However, there are plenty of restaurants in the neighborhood to go eat at (weather permitting).\r\n",
            "The UGLY!\r\n",
            "Parking.\r\n",
            "I saw the review above mine before I left for this trip. I laughed it off as a one time thing.\r\n",
            "Oh no, it is not. On a Tuesday night, this hotel was awash in people and automobiles with numerous functions going on. The hotel parking garage is the only one close to the hotel (the next closest parking lot is about three blcoks away). \r\n",
            "You have two choices. Self Parking at $-- or Valet at $--.\r\n",
            "I choose \"\"\"\"\"\"\"\"\"\"\"\"\"\"\"\"\"\"\"\"\"\"\"\"\"\"\"\"\"\"\"\"Self Parking\"\"\"\"\"\"\"\"\"\"\"\"\"\"\"\"\"\"\"\"\"\"\"\"\"\"\"\"\"\"\"\" for $-- (it's a major city, $-- a day is not bad). But surprise, surprise, as you drive up level after level in the garage, you see plenty of empty spaces but on the walls are \"\"\"\"\"\"\"\"\"\"\"\"\"\"\"\"\"\"\"\"\"\"\"\"\"\"\"\"\"\"\"\"Valet Parking only\"\"\"\"\"\"\"\"\"\"\"\"\"\"\"\"\"\"\"\"\"\"\"\"\"\"\"\"\"\"\"\" signs. You see this on the third floor, on the forth floor, the fifth floor, and only after you pass those signs can you self park and guess what, all of the spots on the sixth floor are full, the seventh floor are full, the eighth, the ninth and even the roof deck so it leaves you with no choice but to bring your car back to the front door and let them valet park your car for an additional $-- a night.\r\n",
            "If the cost of parking is not an issue to you, stay here, it's a very nice hotel. If this will bother you, don't, there are plenty of other hotels in this area.\r\n",
            "One more word of caution. Regardless of when you enter the garage, if you are there after -pm the next day, they charge you for an additional day.\n",
            "I stayed at this hotel July -th weekend for a wedding. The hotel and the hotel was better than what I expected and it was price very well. However, there were two issue: parking and stolen property. There is no assigned parking lot for the hotel. So the options were: parking on the street with a parking meter or pay for Valet parking ( $-- a night). We were going to just park our car on the street but we were advised that we would have to wake up at -am to put money in our meter. So we went with the valet parking with the hotel. It was until after we checked in and spoke with other guest who lived in Detroit, that we were told that parking on the street is free on the weekends. The hotel tried to downplay the parking when we asked. The second issue is that we left our room for the wedding and we left money on the dresser because we were rushing. The money was left inside of a cigarette box . When we returned to our room and open the box.. the money was gone. We noticed that when we left the towels had been changed and the beds had been made. We contact the hotel manager who first suggest that the money would not have come up missing if we had put up a don't disturb sign. The end result was that a report was filed but we have heard nothing back from them! Don't stay at this hotel or this chain.\n",
            "--------------\n"
          ],
          "name": "stdout"
        }
      ]
    },
    {
      "cell_type": "code",
      "metadata": {
        "id": "F2_b-p8321Id",
        "colab_type": "code",
        "colab": {
          "base_uri": "https://localhost:8080/",
          "height": 1000
        },
        "outputId": "d8b2bce2-cd5c-4301-e9e1-74084a693e05"
      },
      "source": [
        "\n",
        "\"#@title Run LDA\"\n",
        "\n",
        "# LDA can only use raw term counts for LDA because it is a probabilistic graphical model\n",
        "tf_vectorizer = CountVectorizer(max_df=0.95, min_df=2, stop_words='english')\n",
        "tf = tf_vectorizer.fit_transform(documents)\n",
        "tf_feature_names = tf_vectorizer.get_feature_names()\n",
        "\n",
        "# Run LDA\n",
        "lda_model = LatentDirichletAllocation(n_components=no_topics, max_iter=5, learning_method='online', learning_offset=50.,random_state=0).fit(tf)\n",
        "lda_W = lda_model.transform(tf)\n",
        "lda_H = lda_model.components_\n",
        "\n",
        "print(\"LDA Topics\")\n",
        "display_topics(lda_H, lda_W, tf_feature_names, documents, no_top_words, no_top_documents)"
      ],
      "execution_count": 13,
      "outputs": [
        {
          "output_type": "stream",
          "text": [
            "LDA Topics\n",
            "Topic 0:\n",
            "hotel good location walk area\n",
            "Stayed here for - nights on a quick visit to San Diego and Seaworld. I chose it because it was Number - on TripAdvisor at the time and was well reviewed. Its a great stopover hotel, near the airport and Seaworld -- minutes away, service was great, hotel very clean, but it is a basic no frills stay and has a small outdoor pool. It was our first visit to San Diego so quite difficult to compare to any other hotels in the area. If you are driving there from LA, we stopped at Del Mar were there are some great restaurants looking on to the beach.\n",
            "Nothing wrong with the hotel itself. Rooms were clean and the staff were very nice but the hotel is a bit out of the way from the main sights of Washington and there is not much in the area. The hotel mostly feels like you are placed in the middle of a residential neighborhood. However, there is a pharmacy and liquor store nearby and it is very close to the National's ball park. There is also a subway stop that is very close to the hotel that will take you into town quite easily. In terms of finding restaurants and bar's around the hotel there are not too many options.\n",
            "I just had a short one stay in Houston and choose this Hotel because contingent of convention people I knew where stayin here. In hindsight, i should have styed a few miles away and saved quite a bit of money. On the upside, the hotel was nice, quite, and staff was very friendly. The convention center was a bit to far away to walk comfortably but it appeared there was plenty of shuttles or taxis available.\n",
            "Topic 1:\n",
            "breakfast food coffee restaurant lounge\n",
            "I ordered a chocolate birthday cake. When I picked it up, they gave me a coconut one. Some letters on the top of cake were not readable. I was also charged -- % tips even I carried the cake out. I am not satisfied with their service.\n",
            "Warning - do not go to this tea thinking it will be lunch. Our group went to the Afternoon Tea at noon expecting finger sandwiches, scones and desserts as we'd seen advertised in several places. Scones and dessert course were as expected but the first course was teeny tiny things like a tiny tart shell with shrimp salad, a piece of rye bread about ----th of a normal slice with cream cheese and cucumber,etc. Each item was about the size of a quarter - very beautiful but not very filling - and they limited the number they offered. Since we had gone thinking this would be lunch we left feeling still hungry, but overloaded with sweets. We would have preferred the finger sandwiches and a few sweets instead.\n",
            "This is only about my experience at the Maze restaurant last Saturday, December --th. My family and I arrived at Noon and were given the Brunch menu. My son and I selected the Pan Roasted Lemon Sole.\r\n",
            "We were then served a cup of soup, all for a cost of about $-- each. The bill showed our meals as soup, but nothing on the menus suggested this dish was a soup. From what I expected, to what we were served, this was the most disappointing dining experience I have ever had.\r\n",
            "The restaurant itself was very nice and the service was excellent. My expectations on the meal were high, and were far from being met.\n",
            "Topic 2:\n",
            "room hotel rooms stay night\n",
            "I booked the Club Quarters at Wacker due to the close proximity to a training session I was attending.\r\n",
            "CHECK-IN\r\n",
            "Quick, unremarkable experience.\r\n",
            "ROOM\r\n",
            "The room was smaller than I expected and had a 'dorm' feel to it - oddly shaped. Closet was small, only a few hangers. No drawers to unpack - but only staying for two nights so not that big of a deal. Cold outside and hot in the room, so I adjusted the room temp, but it would never come on. Oddly enough, the windows in the room opened (on the --st floor if I remember correctly), but a sticker on the window said to call the front desk to open the window. Maintenance came within -- minutes of calling to open the window and that was how I managed the temp. I guess I should have asked him to show me how to work the temp control, but I wanted fresh air once I realized that was an option. The bathroom is small, also found the coffee maker over toilet odd, also only had decaf the first a.m. and was running late so didn't call for regular coffee - but regular coffee was restocked with room service. Bed was comfortable, but coverlet was oddly worn and reminded me of a guest bedroom bedspread instead of hotel linen. Tested the alarm clock to make sure it worked - and it didn't, so I set the alarm on my cell phone instead. I also didn't report the alarm clock didn't work since I had a very easy work-around.\r\n",
            "LOBBY RESTAURANT\r\n",
            "Overpriced, but good. Small portions. Drinks a little overpriced. Ate there the first night (it was very cold outside and snowy and you didn't have to go outside to get to the restaurant). Suffice it to say my second night I found a chain restaurant a block away.\r\n",
            "LOBBY\r\n",
            "Was on the business trip alone, so preferred not to stray too far from the hotel. Second night, ate at a chain restaurant a block away, and upon returning to the hotel didn't want to be cramped in the small room watching tv, so I decided to check out the lobby. There is a small 'library' sitting area that has a TV, coffee machine, gas or electric fireplace, magazines, and a few books. However, on a night where it was -- degrees out, I got a glass of wine for the lobby restaurant (they were kind enough to let me take the glass out to the lobby with me) and sit in front of the fire and read. Never before have I 'hung-out' in a hotel lobby before, but really it was cozy in an odd kind-of way!\r\n",
            "WORK-OUT ROOM\r\n",
            "Small, several machines, TV, water-cooler, towels. Not bad for a quick work-out.\r\n",
            "LOUNGE\r\n",
            "Not sure what to call this - a few PC's available, but quiet and easy to get online for free since I choose to not bring my own laptop. No wireless connections for those that do from what I could tell.\r\n",
            "CHECK-OUT\r\n",
            "Quick, didn't look to see if there was automatic on the TV, just stopped at the little desk on the way out and checked out, less than - minutes to accomplish.\r\n",
            "Overall - interesting departure from business travel experiences. Wasn't necessarily a negative experience, just different, and if you aren't stuck on the normal places to stay, might be worth a short stay!\n",
            "I love Embassy Suites. When I can I try to stay at them. So I was excited when I found that this hotel was close to my client. I booked it and looked forward to a typical nice stay at yet another Embassy Suites. I have to admit I was disappointed. I stayed at this hotel - times in the past year hoping it would improve. It didn't. I cannot give this hotel a solid recommendation - look around the area for another hotel. The good news is that most of my complaints are fixable and hopefully the hotel will see to them.\r\n",
            "Pros:\r\n",
            "It's an Embassy Suites, so it has some 'pros' right off the bat. Free breakfast that is still sets the bar high for other hotel chains. The lobby is beautiful and well decorated. They have put some money into adding water-art that really gives you a calm feeling when you walk in. They have free parking (which in this area is rare). The hotel is pretty secure in that you must use your room key to use the elevator (except for the lobby level). The staff is very friendly and helpful and always enjoyable to talk with. \r\n",
            "Cons:\r\n",
            "Rooms - the beds are pretty bad. Several of the rooms I slept in had the \"\"\"\"\"\"\"\"\"\"\"\"\"\"\"\"\"\"\"\"\"\"\"\"\"\"\"\"\"\"\"\"dip\"\"\"\"\"\"\"\"\"\"\"\"\"\"\"\"\"\"\"\"\"\"\"\"\"\"\"\"\"\"\"\" in the mattress. The sofa in the room was consistently bad - i had to use pillows to give added cushion so that I wouldn't feel the sofa frame. Most of the time my room was clean, but on one occasion I found a piece of gum stuck to the headboard. It was bright green and hard (so it had been there a while) and was the first thing I saw when I walked in the room. I stayed in several rooms that had stained carpet. \r\n",
            "Bathrooms - at first I thought it was just the one room I had, but I noticed after a while that every bathroom has some kind of leak-drip coming from the ceiling. I even noticed that each bathroom had some rust on the ceiling (near the metal access panel). At least the showers were nice.\r\n",
            "Gym - This was a frustrating point for me. The main thing in a gym that I use is the bike. When I first got to the hotel I noticed it didn't work. I told the front desk and they said they'd have someone come fix it. - weeks went by and the bike wasn't fixed. I left Dallas for a few months and when I returned the bike still wasn't fixed. I stayed there recently (- weeks ago) and the bike still hasn't been fixed. What's worse is that this last trip the room had to be -- degrees with no access to the thermostat. This is one of the main reasons I gave up on this hotel. There are other hotels in the area for the same price that have working amenities. I didn't expect the bike to be fixed immediately, but I did expect it to get fixed after a few months.\n",
            "This hotel is in a superb location in central Manhattan. From here you can walk to Central Park, Times Square, Radio City, Broadway etc...so it is exactly where I wanted to be for the one night and the price was right compared to others in the same location. \r\n",
            "It is an older hotel that has a bit of a worn look to it but has all the amenities necessary for a pleasant stay. There is a large, active lobby with a gift shop and coffee shop restaurant. There are several \"\"\"\"\"\"\"\"\"\"\"\"\"\"\"\"\"\"\"\"\"\"\"\"\"\"\"\"\"\"\"\"pay per use\"\"\"\"\"\"\"\"\"\"\"\"\"\"\"\"\"\"\"\"\"\"\"\"\"\"\"\"\"\"\"\" computers along a wall in the lobby. Perhaps there is an overall \"\"\"\"\"\"\"\"\"\"\"\"\"\"\"\"\"\"\"\"\"\"\"\"\"\"\"\"\"\"\"\"budget group travel\"\"\"\"\"\"\"\"\"\"\"\"\"\"\"\"\"\"\"\"\"\"\"\"\"\"\"\"\"\"\"\" feel to the hotel. There are many bell hops-doormen to greet you and your car, take your bags etc...so service is not lacking. Looks like it may have been luxurious in it's hey day but a bit dark and worn looking now. Not dirty or anything just maybe dated and worn. The older elevators scared my kids as did the long narrow hallways with visible fire hoses and fire doors separating different areas. here was a vacuum cleaner sitting by itself in the hallway for hours. I thought it should have been put away. \r\n",
            "We booked a room with - double beds but were surprisingly upgraded to a huge two room suite! Our room was nicer than the hallway. Clean, comfortable and decently furnished and not scary. We did not see standard double rooms so can not comment.\r\n",
            "Also, I think there are two towers or sections to this hotel and that one may have been updated or refurbished. My guess is the section I was in was not refurbished recently. \r\n",
            "A huge negative was the heat in the room at night. It was so hot I felt like I was suffocating and could not sleep. And I found no way to turn the heat down or air conditioning on or up. I did not contact the front desk so maybe there was a way to cool down the room. I was only there for one night so I let it slide. \r\n",
            "Another negative was the noise from the outside. I know New York is noisy (I have been there and slept there many times) and it's to be expected but these rooms were definitely not well sound proofed from exterior noise at all. I have been to other hotels where I heard no noise at all and would not even know I was in New York. Not the case here. I heard all the construction and loud noises all night long (Probably because I was awake from the heat).\r\n",
            "So, I liked this hotel much more than my picky teenage children and I would stay here again but only if it is priced lower than other hotels in the area. It was a great value for a well equipped, great location, in central Manhattan.\n",
            "Topic 3:\n",
            "room hotel told desk said\n",
            "I called the hotel on ------- to make a reservation. A friend of mine found the hotel online and wanted to stay there when we visited San Antonio. The gentleman I spoke with was very polite and answered all of my questions. I was leery about the hotel because of reviews I read on this site. I decided because he was so polite that I would give it a try.\r\n",
            "I arrived at the Antonian to check-in on August --, ----. I planned on checking out on August --, ----. During the check-in process (right from the beginning when I asked a simple question) I was treated very rudely by the front Desk Clerk. \r\n",
            "I ignored it at first. I gave him my credit card and signed the electronic pad when he indicated I needed to, continuing the check in process despite the rude treatment. \r\n",
            "When he gave me my room keys he also gave me an invoice. The amount on the invoice was higher than the amount I was quoted when I made the reservation. He said I was being charged more per night because there is two of us and I only said there would be one when I made the reservation. I did not say how many there would be when I made the reservation, I was never asked. He accused me of lying when I made the reservation; he was continuing to be very rude. \r\n",
            "I said I would not pay this and that I was in fact tired of being treated this way so I was not going to stay here at all. He argued with me and tried to say everything was my fault, again being very rude. I finally asked for the manager. The manager of course apologized for the front desk clerk's behavior, although it did not really seem sincere. The entire time the clerk was next to him continuing to be very rude. The manager did not say anything to him. \r\n",
            "The manager informed me that I would be paying the cancelation fee of one night’s stay plus tax. I said that I didn’t think I should be charged that since I tried to check in but was treated so badly. He basically just ignored me. I told him eventually that I refused to pay it and he said it will be charged and I can dispute it with my credit card company if I want. \r\n",
            "As the manager was checking me out of the hotel he said to me that I “remind him of a person he knows who is a real jerk.” So basically the manager called me a jerk. \r\n",
            "There was a charge billed to my credit card from the Antonian for $---.-- posted on -------. \r\n",
            "I have attempted to contact the owner. The staff will not give me their contact information. I left messages at the hotel with the one employee that has been polite to me and actually seemed sincere when he apologized about the incident. He was not there when I checked-in. The owner has not contacted me. \r\n",
            "I am currently in the process of disputing the charge with my credit card company and I have contacted the Better Business Bureau.\r\n",
            "I would not recommend anyone stay here. They severely lack customer service skills.\n",
            "Facts:\r\n",
            "- booked - rooms for a June stay through Expedia\r\n",
            "- i had to cancel one room, so i called the Fairmont. the reservation associate said that both rooms were cancelled. i said that was impossible and decided to call back the next day to get someone else on the line.\r\n",
            "- called the next day, and i got the same response from someone else\r\n",
            "- i called expedia. expedia put me on hold for -- minutes while they talked to the Fairmont. when the agent got back on the line, i was told that the two rooms were moved to the Intercontinental due to overbooking at the Fairmont. the Fairmont did not have a new confirmation number, the rate, or the room type that we would have at the new hotel\r\n",
            "- it took me - days to get someone from group sales at the Intercontinental to make the edits to my reservation (because these rooms were marked a \"\"\"\"\"\"\"\"\"\"\"\"\"\"\"\"\"\"\"\"\"\"\"\"\"\"\"\"\"\"\"\"special case,\"\"\"\"\"\"\"\"\"\"\"\"\"\"\"\"\"\"\"\"\"\"\"\"\"\"\"\"\"\"\"\" i had to speak to someone in sales)\r\n",
            "If i did not call to make the change to the reservation, i would never have known about the move. my colleague and i would have gotten to the front desk to check in at --pm and i can almost guarantee the person at the front desk would tell us that we did not have a reservation for the stay and would not have any idea about the \"\"\"\"\"\"\"\"\"\"\"\"\"\"\"\"\"\"\"\"\"\"\"\"\"\"\"\"\"\"\"\"room move\"\"\"\"\"\"\"\"\"\"\"\"\"\"\"\"\"\"\"\"\"\"\"\"\"\"\"\"\"\"\"\" to the intercontinental.\r\n",
            "i basically travel for a living. i have never seen such reckless unprofessionalism from a branded hotel like the Fairmont. fair to say that they have lost my business.\n",
            "the property has been renovated. however, after i signed my folio paid my bill for the two nights and left, an additional charge of $--- was charged to my debit card account. i discovered this several days later when i went online to check my balance. i called the hotel and was told that it was because i had - dogs in my room. i did not. the clerk told me i would have to speak to the manager who was not in. i called a total of FIVE times in two days, left voice mails but mgr never returned my calls, i did speak to the sales mgr and customer relations persons who said they'd call me back, (they didn't) but said they couldn't act (no authority in other words) and i ended by going to my bank and signing an affadavit regarding the charge. my question is this - if i was thought to have animals in my room why not come to my room sunday morning before i checked out or sat evening when i was in and inspect the room and tell me what they thought. this would have solved everyone's problem. does this mean that if you stay at this property you had better have the mgr or someone inspect to make sure you are not stealing towels, have dogs, cats, whatever. this is just unethical and very poor business. thank you, t. collins\n",
            "Topic 4:\n",
            "carter el helpfull dreary smoke\n",
            "EL HOTEL EN GENERAL ESTA EN EL PROMEDIO DE CONFORT, TIENE BUENA LIMPIEZA, PERO EL TAMAÑO DE LA HABITACION ES MINUSCULO, EN ESPECIAL POR EL COSTO. EL DESAYUNO ES HIPERCALORICO, EXCESOS DE HARINAS Y AZUCARES Y SIN OPCIONES.\n",
            "TODOS PENSAMOS QUE UN HOTEL DE LA CATEGORIA DEL SHERATON DEBE SER UN HOTEL DONDE SE EXIJA A LOS HUESPEDES RESPETAR LA PRIVACIDAD Y DESCANSO DE LOS OTROS, SIN EMBARGO, AL PERMITIR QUE INGRESEN HOMBRES SOLOS QUE DESPUES METEN MUJERES HACEN QUE DEMERITE MUCHO ESA CALIDAD QUE UNO QUIERE Y PAGA POR ELLA.\r\n",
            "YO ESTUVE DEL -- AL -- DE DIC. DEL ---- Y TUVE DE VECINOS A UN PAR DE LOCOS QUE A LAS TRES DE LA MAÑANA TENIAN UNA FIESTA IMPRESIONANTE. SOLICITE A LA RECEPCION QUE RESOLVIERA ESA SITUACIÓN Y AUN CUANDO ENVIARON AL PERSONAL DE SEGURIDAD EN DOS OCASIONES A ESTAS PERSONAS NO LES HICIERON NINGUN CASO Y MI FAMILIA Y YO TUVIMOS QUE SOPORTAR EN LA PENULTIMA NOCHE Y HASTA LAS CUATRO DE LA MAÑANA UNA CANTIDAD DE GRITOS, MUSICA, RISAS, EXPRESIONES DENIGRANTES, ETC. POR LO TANTO NO VOLVERE A HOSPEDARME EN ESTE HOTEL, NI A RECOMENDARLO. YA QUE NI SIQUIERA UNA DISCULPA ME PUDIERON OFRECER.\n",
            "Disgusting hovel the owners should be reported for false representation.\n"
          ],
          "name": "stdout"
        }
      ]
    },
    {
      "cell_type": "markdown",
      "metadata": {
        "id": "hEXqLclP7Ypo",
        "colab_type": "text"
      },
      "source": [
        "# find dominant topic"
      ]
    },
    {
      "cell_type": "code",
      "metadata": {
        "id": "KGAknYXI5aUM",
        "colab_type": "code",
        "colab": {}
      },
      "source": [
        "from gensim.test.utils import datapath\n",
        "from gensim import corpora\n",
        "from gensim import models\n",
        "import pandas as pd \n",
        "import matplotlib.pyplot as plt\n",
        "import pprint\n",
        "import numpy as np\n",
        "%matplotlib inline"
      ],
      "execution_count": 15,
      "outputs": []
    },
    {
      "cell_type": "code",
      "metadata": {
        "id": "E_RK6uRoEleU",
        "colab_type": "code",
        "colab": {}
      },
      "source": [
        "#Load processed clean reviews data \n",
        "#reviews_df = pd.read_csv('HappyHotel/hotel_reviews_clean-reviews.csv')\n",
        "reviews_df = df\n",
        "# load optimized data from analysis \n",
        "#temp_file = datapath(\"optimized_model\")\n",
        "#optimal_model = models.LdaModel.load(temp_file)\n",
        "optimal_model = lda_model\n",
        "#load dictionary and corpus \n",
        "#reviews_dict = corpora.Dictionary.load('reviews_dict.dict')\n",
        "reviews_dict = documents\n",
        "#reviews_corpus = corpora.MmCorpus('reviews_corpus.mm')"
      ],
      "execution_count": 24,
      "outputs": []
    },
    {
      "cell_type": "code",
      "metadata": {
        "id": "bI2r-uH1EsZ1",
        "colab_type": "code",
        "colab": {}
      },
      "source": [
        "def format_topics_sentences(ldamodel, corpus, texts):\n",
        "    # Init output\n",
        "    sent_topics_df = pd.DataFrame()\n",
        "\n",
        "    # Get main topic in each document\n",
        "    for i, row in enumerate(ldamodel[corpus]):\n",
        "        row = sorted(row, key=lambda x: (x[1]), reverse=True)\n",
        "        # Get the Dominant topic, Perc Contribution and Keywords for each document\n",
        "        for j, (topic_num, prop_topic) in enumerate(row):\n",
        "            if j == 0:  # => dominant topic\n",
        "                wp = ldamodel.show_topic(topic_num) # shows the top 10 words for each topic\n",
        "                topic_keywords = \", \".join([word for word, prop in wp])\n",
        "                sent_topics_df = sent_topics_df.append(pd.Series([int(topic_num), round(prop_topic,4), topic_keywords]), ignore_index=True)\n",
        "            else:\n",
        "                break\n",
        "    sent_topics_df.columns = ['Dominant_Topic', 'Perc_Contribution', 'Topic_Keywords']\n",
        "\n",
        "    # Add original text to the end of the output\n",
        "    contents = pd.Series(texts)\n",
        "    sent_topics_df = pd.concat([sent_topics_df, contents], axis=1)\n",
        "    return(sent_topics_df)\n",
        "\n",
        "#df_topic_sents_keywords = format_topics_sentences(ldamodel=optimal_model, corpus=reviews_corpus, texts=reviews_df.clean_text.astype(str).apply(lambda x:x.split()))\n",
        "df_topic_sents_keywords = format_topics_sentences(ldamodel=optimal_model, corpus=reviews_dict, texts=reviews_df.clean_text.astype(str).apply(lambda x:x.split()))\n",
        "\n"
      ],
      "execution_count": 26,
      "outputs": []
    },
    {
      "cell_type": "code",
      "metadata": {
        "id": "IcJuJ6KCEsb6",
        "colab_type": "code",
        "colab": {}
      },
      "source": [
        ""
      ],
      "execution_count": 13,
      "outputs": []
    },
    {
      "cell_type": "code",
      "metadata": {
        "id": "Ikj6F_OREsd7",
        "colab_type": "code",
        "colab": {}
      },
      "source": [
        ""
      ],
      "execution_count": null,
      "outputs": []
    },
    {
      "cell_type": "markdown",
      "metadata": {
        "id": "T-a1nIX9EtGu",
        "colab_type": "text"
      },
      "source": [
        "refs: \n",
        "\n",
        "https://drive.google.com/drive/folders/1YpKoewscSz9_u7v5I8-rjRqxje2PcLxR\n",
        "\n",
        "\n",
        "https://towardsdatascience.com/topic-modeling-for-everybody-with-google-colab-2f5cdc99a647\n",
        "\n",
        "https://github.com/frcamacho/HappyHotel\n",
        "\n",
        "https://towardsdatascience.com/end-to-end-topic-modeling-in-python-latent-dirichlet-allocation-lda-35ce4ed6b3e0\n",
        "\n"
      ]
    },
    {
      "cell_type": "markdown",
      "metadata": {
        "id": "XbyRF8OJ0Rk1",
        "colab_type": "text"
      },
      "source": [
        "\n",
        "1. Non Negative Matrix Factorization (NMF) \n",
        "2. Latent Dirichlet Allocation (LDA)\n",
        "3. Both algorithms take a document collection as input and return the main words in a topic and the documents that belong to a topic — a feature that makes the output interpretable\n",
        "\n"
      ]
    },
    {
      "cell_type": "code",
      "metadata": {
        "id": "NwPi5Iz6Et_k",
        "colab_type": "code",
        "colab": {}
      },
      "source": [
        ""
      ],
      "execution_count": null,
      "outputs": []
    }
  ]
}